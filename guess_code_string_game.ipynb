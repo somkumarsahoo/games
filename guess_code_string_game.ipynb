{
 "cells": [
  {
   "cell_type": "markdown",
   "id": "837ccdac",
   "metadata": {},
   "source": [
    "- Game Name: Guess the Combination\n",
    "- Game Type: Puzzle\n",
    "- Objective: Guess a 6-character combination from the letters A to J\n",
    "- Gameplay:\n",
    "    - The computer generates a random 6-character combination\n",
    "    - The player inputs a 6-character guess\n",
    "    - The computer validates the guess and provides feedback in the form of character and position scores\n",
    "    - The player keeps guessing until they correctly guess the combination\n",
    "- Scoring:\n",
    "    - Character Score: Number of characters in the guess that appear in the combination (regardless of position)\n",
    "    - Position Score: Number of characters in the guess that appear in the correct position in the combination\n",
    "- Winning Condition: The player correctly guesses the 6-character combination (Position Score of 6)\n",
    "\n"
   ]
  },
  {
   "cell_type": "code",
   "execution_count": 1,
   "id": "276c4b92",
   "metadata": {},
   "outputs": [],
   "source": [
    "# Import the random library\n",
    "import random\n",
    "\n",
    "# Define the guess_game function\n",
    "def guess_game():\n",
    "    # Generate a random combination of 6 characters from A to J\n",
    "    combination = random.sample('ABCDEFGHIJ', 6)\n",
    "\n",
    "    # Print the game introduction\n",
    "    print(\"I'm thinking of a combination of 6 characters from A to J.\")\n",
    "    print(\"Guess the combination by entering 6 characters.\")\n",
    "    \n",
    "    # Initialize the attempts counter\n",
    "    attempts = 0\n",
    "    \n",
    "    # Start the game loop\n",
    "    while True:\n",
    "        # Get the user's guess\n",
    "        guess = input(\"Enter your guess: \").upper()\n",
    "        \n",
    "        # Validate the guess\n",
    "        if not validate_guess(guess):\n",
    "            continue\n",
    "        \n",
    "        # Calculate the scores\n",
    "        scores = calculate_scores(guess, combination)\n",
    "        \n",
    "        # Print the scores\n",
    "        print(f\"Character score: {scores['character']}, Position score: {scores['position']}\")\n",
    "        \n",
    "        # Increment the attempts counter\n",
    "        attempts += 1\n",
    "        \n",
    "        # Check if the user won\n",
    "        if scores['position'] == 6:\n",
    "            code = ''\n",
    "            for c in combination:\n",
    "                code = code + c \n",
    "            print(f\"Congratulations! You won in {attempts} attempts. by predicting my secret combination of characters: {code} \")\n",
    "            break\n",
    "\n"
   ]
  },
  {
   "cell_type": "code",
   "execution_count": 2,
   "id": "a6363405",
   "metadata": {},
   "outputs": [],
   "source": [
    "# Define the validate_guess function\n",
    "def validate_guess(guess):\n",
    "    if len(guess) != 6:\n",
    "        print(\"Invalid guess. Please enter 6 characters.\")\n",
    "        return False\n",
    "    if not all(char in 'ABCDEFGHIJ' for char in guess):\n",
    "        print(\"Invalid guess. Please use characters A to H only.\")\n",
    "        return False\n",
    "    return True\n"
   ]
  },
  {
   "cell_type": "code",
   "execution_count": 3,
   "id": "2c4659f7",
   "metadata": {},
   "outputs": [],
   "source": [
    "\n",
    "# Define the calculate_scores function\n",
    "def calculate_scores(guess, combination):\n",
    "    character_score = sum(1 for char in guess if char in combination)\n",
    "    position_score = sum(1 for i, char in enumerate(guess) if char == combination[i])\n",
    "    return {'character': character_score, 'position': position_score}\n",
    "\n"
   ]
  },
  {
   "cell_type": "code",
   "execution_count": 4,
   "id": "17828975",
   "metadata": {},
   "outputs": [
    {
     "name": "stdout",
     "output_type": "stream",
     "text": [
      "I'm thinking of a combination of 6 characters from A to J.\n",
      "Guess the combination by entering 6 characters.\n",
      "Enter your guess: ABCDEF\n",
      "Character score: 6, Position score: 6\n",
      "Congratulations! You won in 1 attempts. by predicting my secret combination of characters: ABCDEF \n"
     ]
    }
   ],
   "source": [
    "# Run the game\n",
    "guess_game()"
   ]
  },
  {
   "cell_type": "code",
   "execution_count": null,
   "id": "32dd8924",
   "metadata": {},
   "outputs": [],
   "source": [
    "\n"
   ]
  }
 ],
 "metadata": {
  "kernelspec": {
   "display_name": "Python 3 (ipykernel)",
   "language": "python",
   "name": "python3"
  },
  "language_info": {
   "codemirror_mode": {
    "name": "ipython",
    "version": 3
   },
   "file_extension": ".py",
   "mimetype": "text/x-python",
   "name": "python",
   "nbconvert_exporter": "python",
   "pygments_lexer": "ipython3",
   "version": "3.9.12"
  }
 },
 "nbformat": 4,
 "nbformat_minor": 5
}
