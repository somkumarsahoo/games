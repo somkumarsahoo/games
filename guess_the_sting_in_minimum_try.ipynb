{
 "cells": [
  {
   "cell_type": "markdown",
   "id": "f8740e24",
   "metadata": {},
   "source": [
    "Guess the Combination Game:\n",
    "\n",
    "* Game Overview:\n",
    "\n",
    "- Game Name: Guess the Combination\n",
    "- Game Type: Puzzle\n",
    "- Objective: Guess a 6-character combination from the letters A to J\n",
    "\n",
    "* Gameplay Instructions\n",
    "- The computer generates a random 6-character combination from the letters A to J.\n",
    "- The player inputs a 6-character guess.\n",
    "- The computer validates the guess and provides feedback in the form of character and position \n",
    "\n",
    "* Scores.\n",
    "- The player keeps guessing until they correctly guess the combination.\n",
    "\n",
    "* Constraints\n",
    "- The combination can contain duplicate characters.\n",
    "- The player's guess must be exactly 6 characters long.\n",
    "- The player's guess must only contain letters from A to J.\n",
    "\n",
    "* Scoring\n",
    "- Character Score: Number of characters in the guess that appear in the combination (regardless of position)\n",
    "- Position Score: Number of characters in the guess that appear in the correct position in the combination\n",
    "\n",
    "* Winning Condition\n",
    "- The player correctly guesses the 6-character combination (Position Score of 6)"
   ]
  },
  {
   "cell_type": "code",
   "execution_count": null,
   "id": "64ad2c66",
   "metadata": {},
   "outputs": [],
   "source": [
    "import random\n",
    "\n",
    "class GuessGame:\n",
    "    def __init__(self):\n",
    "        self.combination = random.sample('ABCDEFGHIJ', 6)\n",
    "        self.attempts = 0\n",
    "\n",
    "    def validate_guess(self, guess):\n",
    "        if len(guess) != 6:\n",
    "            print(\"Invalid guess. Please enter 6 characters.\")\n",
    "            return False\n",
    "        if not all(char in 'ABCDEFGHIJ' for char in guess):\n",
    "            print(\"Invalid guess. Please use characters A to J only.\")\n",
    "            return False\n",
    "        return True\n",
    "\n",
    "    def calculate_scores(self, guess):\n",
    "        character_score = sum(1 for char in guess if char in self.combination)\n",
    "        position_score = sum(1 for i, char in enumerate(guess) if char == self.combination[i])\n",
    "        return {'character': character_score, 'position': position_score}\n",
    "\n",
    "    def play(self):\n",
    "        print(\"I'm thinking of a combination of 6 characters from A to J.\")\n",
    "        print(\"Guess the combination by entering 6 characters.\")\n",
    "        while True:\n",
    "            guess = input(\"Enter your guess: \").upper()\n",
    "            if not self.validate_guess(guess):\n",
    "                continue\n",
    "            scores = self.calculate_scores(guess)\n",
    "            print(f\"Character score: {scores['character']}, Position score: {scores['position']}\")\n",
    "            self.attempts += 1\n",
    "            if scores['position'] == 6:\n",
    "                code = ''\n",
    "                for c in self.combination:\n",
    "                    code = code + c \n",
    "                print(f\"Congratulations! You won in {self.attempts} attempts. by predicting my secret combination of characters: {code} \")\n",
    "                break\n",
    "\n"
   ]
  },
  {
   "cell_type": "code",
   "execution_count": null,
   "id": "5be4a7c3",
   "metadata": {},
   "outputs": [],
   "source": [
    "# Render an instance of the game\n",
    "\n",
    "game = GuessGame()\n"
   ]
  },
  {
   "cell_type": "code",
   "execution_count": null,
   "id": "88b1c61e",
   "metadata": {},
   "outputs": [],
   "source": [
    "# Run the game\n",
    "\n",
    "game.play()"
   ]
  },
  {
   "cell_type": "code",
   "execution_count": null,
   "id": "3cd8f960",
   "metadata": {},
   "outputs": [],
   "source": [
    "        "
   ]
  },
  {
   "cell_type": "code",
   "execution_count": null,
   "id": "53c41090",
   "metadata": {},
   "outputs": [],
   "source": []
  }
 ],
 "metadata": {
  "kernelspec": {
   "display_name": "Python 3 (ipykernel)",
   "language": "python",
   "name": "python3"
  },
  "language_info": {
   "codemirror_mode": {
    "name": "ipython",
    "version": 3
   },
   "file_extension": ".py",
   "mimetype": "text/x-python",
   "name": "python",
   "nbconvert_exporter": "python",
   "pygments_lexer": "ipython3",
   "version": "3.9.12"
  }
 },
 "nbformat": 4,
 "nbformat_minor": 5
}
